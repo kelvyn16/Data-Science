{
 "cells": [
  {
   "cell_type": "markdown",
   "metadata": {},
   "source": [
    "# Calculadora em Python - Lab 2: Passo a passo"
   ]
  },
  {
   "cell_type": "code",
   "execution_count": null,
   "metadata": {},
   "outputs": [],
   "source": [
    "### primeiro devemos criar um input para o usuário definir a operação que deseja fazer:\n",
    "\n",
    "### 1 - Soma;\n",
    "### 2 - Subtração;\n",
    "### 3 - Multiplicação;\n",
    "### 4 - Divisão.\n",
    "\n",
    "print(\"Bem vindo a calculadora Python\")\n",
    "print(\"Com ela será possível você realizar operações simples: \")\n",
    "\n",
    "op = int(input(\"Digite o número da opção desejada: \\n 1 - Soma \\n 2 - Subtração \\n 3 - Multiplicação \\n 4 - Divisão \\n\"))\n",
    "num1 = int(input(\"Digite o primeiro número: \"))\n",
    "num2 = int(input(\"Digite o segundo número: \"))\n",
    "\n",
    "if op == 1:\n",
    "    operacao = num1 + num2\n",
    "    print(\"A soma dos números é: \", operacao)\n",
    "\n",
    "elif op == 2:\n",
    "    operacao = num1 - num2\n",
    "    print(\"A subtração dos números é: \", operacao)\n",
    "\n",
    "elif op == 3:\n",
    "    operacao = num1 * num2\n",
    "    print(\"A multiplicação dos números é: \", operacao)\n",
    "    \n",
    "elif op == 4:\n",
    "    operacao = num1 / num2\n",
    "    print(\"A divisão dos números é: \", operacao)\n",
    "    \n",
    "else:\n",
    "    print(\"Desculpe, mas não existe esta operação em nossa calculadora\")\n",
    "\n",
    "    \n"
   ]
  },
  {
   "cell_type": "code",
   "execution_count": null,
   "metadata": {},
   "outputs": [],
   "source": []
  }
 ],
 "metadata": {
  "kernelspec": {
   "display_name": "Python 3",
   "language": "python",
   "name": "python3"
  },
  "language_info": {
   "codemirror_mode": {
    "name": "ipython",
    "version": 3
   },
   "file_extension": ".py",
   "mimetype": "text/x-python",
   "name": "python",
   "nbconvert_exporter": "python",
   "pygments_lexer": "ipython3",
   "version": "3.6.5"
  }
 },
 "nbformat": 4,
 "nbformat_minor": 2
}
