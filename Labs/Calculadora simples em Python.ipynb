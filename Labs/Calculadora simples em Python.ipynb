{
 "cells": [
  {
   "cell_type": "markdown",
   "metadata": {},
   "source": [
    "# Calculadora em Python - Lab 2: Passo a passo"
   ]
  },
  {
   "cell_type": "code",
   "execution_count": 3,
   "metadata": {},
   "outputs": [
    {
     "name": "stdout",
     "output_type": "stream",
     "text": [
      "Bem vindo a calculadora Python\n",
      "Com ela será possível você realizar operações simples: \n",
      "Digite o número da opção desejada: \n",
      " 1 - Soma \n",
      " 2 - Subtração \n",
      " 3 - Multiplicação \n",
      " 4 - Divisão \n",
      "2\n",
      "Digite o primeiro número: 2\n",
      "Digite o segundo número: 5\n",
      "A subtração dos números é:  -3\n",
      "Esperamos que tenha gostado, até logo!\n",
      "Fim\n"
     ]
    }
   ],
   "source": [
    "# primeiro devemos criar um input para o usuário definir a operação que deseja fazer:\n",
    "\n",
    "### 1 - Soma;\n",
    "### 2 - Subtração;\n",
    "### 3 - Multiplicação;\n",
    "### 4 - Divisão.\n",
    "\n",
    "# Mensagem de introdução da calculadora ao usuário:\n",
    "\n",
    "print(\"Bem vindo a calculadora Python\")\n",
    "print(\"Com ela será possível você realizar operações simples: \")\n",
    "\n",
    "# Input para escolha do tipo de operação que se deseja realizar:\n",
    "op = int(input(\"Digite o número da opção desejada: \\n 1 - Soma \\n 2 - Subtração \\n 3 - Multiplicação \\n 4 - Divisão \\n\"))\n",
    "\n",
    "# Input dos dois algarismos que desejamos digitar:\n",
    "num1 = int(input(\"Digite o primeiro número: \"))\n",
    "num2 = int(input(\"Digite o segundo número: \"))\n",
    "\n",
    "\n",
    "# Após a digitação dos algarismos e a seleção da operação à se realizar, \n",
    "# seguimos para as condicionais, onde dependendo das informações \"setadas\" pelo usuário, retornará uma operação específica:\n",
    "\n",
    "# Temos a operação de soma, onde caso o usuário digite a opção 1 no início do programa, a variável operacao receberá \n",
    "# a soma do num1 e num2 e em seguida, printará na tela do usuário o valor da operação em questão:\n",
    "if op == 1:\n",
    "    operacao = num1 + num2\n",
    "    print(\"A soma dos números é: \", operacao)\n",
    "    \n",
    "# Temos a operação de subtração, onde caso o usuário digite a opção 1 no início do programa, a variável operacao receberá \n",
    "# a subtração do num1 e num2 e em seguida, printará na tela do usuário o valor da operação em questão:\n",
    "\n",
    "elif op == 2:\n",
    "    operacao = num1 - num2\n",
    "    print(\"A subtração dos números é: \", operacao)\n",
    "\n",
    "# Temos a operação de multiplicação, onde caso o usuário digite a opção 1 no início do programa, a variável operacao receberá \n",
    "# a multiplicação do num1 e num2 e em seguida, printará na tela do usuário o valor da operação em questão:\n",
    "\n",
    "elif op == 3:\n",
    "    operacao = num1 * num2\n",
    "    print(\"A multiplicação dos números é: \", operacao)\n",
    "    \n",
    "# Por fim, temos a operação de divisão, onde caso o usuário digite a opção 1 no início do programa, a variável operacao receberá \n",
    "# a divisão do num1 e num2 e em seguida, printará na tela do usuário o valor da operação em questão:\n",
    "\n",
    "elif op == 4:\n",
    "    operacao = num1 / num2\n",
    "    print(\"A divisão dos números é: \", operacao)\n",
    "    \n",
    "# Caso o usuário retorne um número fora do intervalo de 1 - 4, a calculadora pedirá os valores e logo em seguida retornará\n",
    "# uma mensagem dizendo que não existe esta operaação.\n",
    "\n",
    "else:\n",
    "    print(\"Desculpe, mas não existe esta operação em nossa calculadora\")\n",
    "    \n",
    "# Mensagem de encerramento\n",
    "print(\"Esperamos que tenha gostado, até logo!\")\n",
    "print(\"Fim\")\n",
    "\n",
    "\n",
    "    \n"
   ]
  },
  {
   "cell_type": "code",
   "execution_count": null,
   "metadata": {},
   "outputs": [],
   "source": []
  }
 ],
 "metadata": {
  "kernelspec": {
   "display_name": "Python 3",
   "language": "python",
   "name": "python3"
  },
  "language_info": {
   "codemirror_mode": {
    "name": "ipython",
    "version": 3
   },
   "file_extension": ".py",
   "mimetype": "text/x-python",
   "name": "python",
   "nbconvert_exporter": "python",
   "pygments_lexer": "ipython3",
   "version": "3.6.5"
  }
 },
 "nbformat": 4,
 "nbformat_minor": 2
}
